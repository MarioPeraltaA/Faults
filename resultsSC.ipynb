{
 "cells": [
  {
   "attachments": {},
   "cell_type": "markdown",
   "metadata": {},
   "source": [
    "## Example of implementation\n",
    "\n",
    "Decoupling system, arcing fault at bus 7: ``b7`` through impedance $Z_{F} [\\Omega]$"
   ]
  },
  {
   "cell_type": "code",
   "execution_count": 1,
   "metadata": {},
   "outputs": [],
   "source": [
    "import ShortCircuit as SC\n",
    "\n",
    "sys = SC.main()            # Get system\n",
    "sys012 = SC.sys_012(sys)   # Breck sys down\n"
   ]
  },
  {
   "attachments": {},
   "cell_type": "markdown",
   "metadata": {},
   "source": [
    "### 1. Balanced fault"
   ]
  },
  {
   "cell_type": "code",
   "execution_count": 2,
   "metadata": {},
   "outputs": [
    {
     "name": "stdout",
     "output_type": "stream",
     "text": [
      "[ 1.5558571 -9.41445461j -8.9310854 +3.35981554j  7.37522831+6.05463908j]\n",
      "[array([ 0.49514713-0.08343329j, -0.31982891-0.38709335j,\n",
      "       -0.17531821+0.47052664j]), array([ 0.47343591-0.08702134j, -0.31208065-0.36649686j,\n",
      "       -0.16135526+0.4535182j ]), array([ 0.49957609-0.08270135j, -0.32140951-0.39129491j,\n",
      "       -0.17816657+0.47399626j]), array([ 0.32081397-0.11224404j, -0.25761317-0.22171103j,\n",
      "       -0.0632008 +0.33395507j]), array([ 0.21467331-0.12978512j, -0.21973386-0.12101998j,\n",
      "        0.00506055+0.2508051j ]), array([ 0.21015387-0.13053201j, -0.21812097-0.11673258j,\n",
      "        0.0079671 +0.2472646j ]), array([ 0.02658562-0.16086898j, -0.15260943+0.05741066j,\n",
      "        0.12602381+0.10345831j])]\n"
     ]
    }
   ],
   "source": [
    "b7 = sys012.balanced(7, Zf=10)\n",
    "print(sys012.balanced_fault[b7][1])   # Current phase in pu\n",
    "print(sys012.balanced_fault[b7][3])   # Voltages all buses phase in pu\n"
   ]
  },
  {
   "attachments": {},
   "cell_type": "markdown",
   "metadata": {},
   "source": [
    "### 2. Single Line-to-Ground fault"
   ]
  },
  {
   "cell_type": "code",
   "execution_count": 3,
   "metadata": {},
   "outputs": [
    {
     "name": "stdout",
     "output_type": "stream",
     "text": [
      "[ 1.25302696e+00-8.47113886e+00j -4.44089210e-16-2.22044605e-16j\n",
      " -4.44089210e-16-2.22044605e-16j]\n",
      "[array([ 0.69081168-0.04573426j, -0.34459324-0.84865187j,\n",
      "       -0.34621844+0.89438613j]), array([ 0.67751432-0.04770117j, -0.33791068-0.84790482j,\n",
      "       -0.33960576+0.89560568j]), array([ 0.6935241 -0.04533305j, -0.34595662-0.84880429j,\n",
      "       -0.34756755+0.89413733j]), array([ 0.18425662-0.12066246j, -0.66246998-0.91296371j,\n",
      "       -0.66910133+0.86391861j]), array([ 0.37785205-0.09202637j, -0.3994445 -0.85988409j,\n",
      "       -0.40197258+0.88925791j]), array([ 0.3750842 -0.09243578j, -0.3980533 -0.85972856j,\n",
      "       -0.40059593+0.8895118j ]), array([ 0.02141103-0.14475012j, -0.58279625-0.88909643j,\n",
      "       -0.58592981+0.86413895j])]\n"
     ]
    }
   ],
   "source": [
    "b7 = sys012.single(7, Zf=10)\n",
    "print(sys012.single_fault[b7][1])   # Current phase in pu\n",
    "print(sys012.single_fault[b7][3])   # Voltages all buses phase in pu\n"
   ]
  },
  {
   "attachments": {},
   "cell_type": "markdown",
   "metadata": {},
   "source": [
    "### 3. Double Line-to-Line fault"
   ]
  },
  {
   "cell_type": "code",
   "execution_count": 4,
   "metadata": {},
   "outputs": [
    {
     "name": "stdout",
     "output_type": "stream",
     "text": [
      "[ 0.       +0.j         -8.1505993-0.65967681j  8.1505993+0.65967681j]\n",
      "[array([ 1.01057145+0.00085561j, -0.54140207-0.4202198j ,\n",
      "       -0.46916938+0.41936419j]), array([ 1.01102607+0.00089241j, -0.54318256-0.40104792j,\n",
      "       -0.46784351+0.40015551j]), array([ 1.01047871+0.0008481j , -0.54103886-0.42413075j,\n",
      "       -0.46943985+0.42328265j]), array([ 1.04313513+0.00349118j, -0.57218202-0.24240703j,\n",
      "       -0.47095312+0.23891585j]), array([ 1.01644448+0.00133095j, -0.56440321-0.17255002j,\n",
      "       -0.45204126+0.17121907j]), array([ 1.01653911+0.00133861j, -0.56477384-0.16855918j,\n",
      "       -0.45176527+0.16722057j]), array([ 1.02038297+0.00164972j, -0.57982794-0.00646095j,\n",
      "       -0.44055503+0.00481124j])]\n"
     ]
    }
   ],
   "source": [
    "b7 = sys012.line_to_line(7, Zf=10)\n",
    "print(sys012.line_line_fault[b7][1])   # Current phase in pu\n",
    "print(sys012.line_line_fault[b7][3])   # Voltages phase all buses in pu"
   ]
  },
  {
   "attachments": {},
   "cell_type": "markdown",
   "metadata": {},
   "source": [
    "### 4. Double Line-to-Ground fault"
   ]
  },
  {
   "cell_type": "code",
   "execution_count": 5,
   "metadata": {},
   "outputs": [
    {
     "name": "stdout",
     "output_type": "stream",
     "text": [
      "[ 5.55111512e-17+8.88178420e-16j -9.28010880e+00+3.77383508e+00j\n",
      "  7.21756606e+00+3.79826631e+00j]\n",
      "[array([ 0.8725117 -0.03762456j, -0.43625585-0.39805661j,\n",
      "       -0.43625585+0.43568116j]), array([ 0.86702969-0.03924243j, -0.4335139 -0.37793142j,\n",
      "       -0.4335139 +0.41717437j]), array([ 0.87363015-0.03729448j, -0.43681504-0.40216199j,\n",
      "       -0.43681504+0.43945648j]), array([ 1.19184595+0.04042994j, -0.08135595-0.12368397j,\n",
      "       -0.0849392 +0.36260083j]), array([ 0.92788897-0.02415072j, -0.27463834-0.10369757j,\n",
      "       -0.27463834+0.2309774j ]), array([ 0.92674769-0.02448753j, -0.2740677 -0.09950832j,\n",
      "       -0.2740677 +0.22712496j]), array([ 1.09603827+0.02057116j, -0.03524359+0.12938787j,\n",
      "       -0.03524359+0.12938787j])]\n"
     ]
    }
   ],
   "source": [
    "b7 = sys012.double_to_ground(7, Zf=10)\n",
    "print(sys012.double_fault[b7][1])   # Current phase in pu\n",
    "print(sys012.double_fault[b7][3])   # Voltages phase all buses in pu"
   ]
  },
  {
   "attachments": {},
   "cell_type": "markdown",
   "metadata": {},
   "source": [
    "## Current all across the network\n",
    "\n",
    "Due to single line-to-ground fault at bus `b7`"
   ]
  },
  {
   "cell_type": "code",
   "execution_count": 1,
   "metadata": {},
   "outputs": [],
   "source": [
    "import ShortCircuit as SC\n",
    "\n",
    "sys = SC.main()            # Get system\n",
    "sys012 = SC.sys_012(sys)   # Breck sys down"
   ]
  },
  {
   "attachments": {},
   "cell_type": "markdown",
   "metadata": {},
   "source": [
    "Get current through transformer `4`"
   ]
  },
  {
   "cell_type": "code",
   "execution_count": 3,
   "metadata": {},
   "outputs": [
    {
     "data": {
      "text/plain": [
       "array([ 0.16423404-1.11031082j, -0.16273143+0.54322998j,\n",
       "       -0.00150228+0.56707854j])"
      ]
     },
     "execution_count": 3,
     "metadata": {},
     "output_type": "execute_result"
    }
   ],
   "source": [
    "b7 = sys012.single(7, Zf=10)\n",
    "b7 = sys012.I_ckt(b7)\n",
    "sys012.Ickt_fault[b7][1][:, 3, 6]\n"
   ]
  }
 ],
 "metadata": {
  "kernelspec": {
   "display_name": "powersys",
   "language": "python",
   "name": "python3"
  },
  "language_info": {
   "codemirror_mode": {
    "name": "ipython",
    "version": 3
   },
   "file_extension": ".py",
   "mimetype": "text/x-python",
   "name": "python",
   "nbconvert_exporter": "python",
   "pygments_lexer": "ipython3",
   "version": "3.10.4"
  },
  "orig_nbformat": 4
 },
 "nbformat": 4,
 "nbformat_minor": 2
}
