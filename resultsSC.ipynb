{
 "cells": [
  {
   "attachments": {},
   "cell_type": "markdown",
   "metadata": {},
   "source": [
    "## Example of implementation\n",
    "\n",
    "Decoupling system, arcing fault at bus 7: ``b7`` through impedance $Z_{F} [\\Omega]$"
   ]
  },
  {
   "cell_type": "code",
   "execution_count": 1,
   "metadata": {},
   "outputs": [],
   "source": [
    "import ShortCircuit as SC\n",
    "\n",
    "sys = SC.main()            # Get system\n",
    "sys012 = SC.sys_012(sys)   # Break sys down\n"
   ]
  },
  {
   "attachments": {},
   "cell_type": "markdown",
   "metadata": {},
   "source": [
    "### 1. Single-to-ground fault"
   ]
  },
  {
   "cell_type": "code",
   "execution_count": 2,
   "metadata": {},
   "outputs": [
    {
     "name": "stdout",
     "output_type": "stream",
     "text": [
      "[ 1.25302696e+00-8.47113886e+00j -4.44089210e-16-2.22044605e-16j\n",
      " -4.44089210e-16-2.22044605e-16j]\n",
      "[ 0.02141103-0.14475012j -0.58279625-0.88909643j -0.58592981+0.86413895j]\n"
     ]
    }
   ],
   "source": [
    "b7 = sys012.single(7, Zf=10)\n",
    "print(sys012.fault[b7][1])   # Current phase in pu at faulted bus\n",
    "print(sys012.fault[b7][3][6])   # Voltage bus 7\n"
   ]
  },
  {
   "attachments": {},
   "cell_type": "markdown",
   "metadata": {},
   "source": [
    "### 2. Single Line-to-Ground fault"
   ]
  },
  {
   "cell_type": "code",
   "execution_count": 3,
   "metadata": {},
   "outputs": [
    {
     "name": "stdout",
     "output_type": "stream",
     "text": [
      "[ 5.55111512e-17+8.88178420e-16j -9.28010880e+00+3.77383508e+00j\n",
      "  7.21756606e+00+3.79826631e+00j]\n",
      "[ 1.09603827+0.02057116j -0.03524359+0.12938787j -0.03524359+0.12938787j]\n"
     ]
    }
   ],
   "source": [
    "b7 = sys012.double_to_ground(7, Zf=10)\n",
    "print(sys012.fault[b7][1])   # Current phase in pu at faulted bus\n",
    "print(sys012.fault[b7][3][6])   # Voltage bus 7"
   ]
  },
  {
   "attachments": {},
   "cell_type": "markdown",
   "metadata": {},
   "source": [
    "### 3. Double Line-to-Line fault"
   ]
  },
  {
   "cell_type": "code",
   "execution_count": null,
   "metadata": {},
   "outputs": [],
   "source": [
    "b7 = sys012.line_to_line(7, Zf=10)\n",
    "print(sys012.line_line_fault[b7][1])   # Current phase in pu\n",
    "print(sys012.line_line_fault[b7][3])   # Voltages phase all buses in pu"
   ]
  },
  {
   "attachments": {},
   "cell_type": "markdown",
   "metadata": {},
   "source": [
    "### 4. Double Line-to-Ground fault"
   ]
  },
  {
   "cell_type": "code",
   "execution_count": null,
   "metadata": {},
   "outputs": [],
   "source": [
    "b7 = sys012.double_to_ground(7, Zf=10)\n",
    "print(sys012.double_fault[b7][1])   # Current phase in pu\n",
    "print(sys012.double_fault[b7][3])   # Voltages phase all buses in pu"
   ]
  },
  {
   "attachments": {},
   "cell_type": "markdown",
   "metadata": {},
   "source": [
    "## Current all across the network\n",
    "\n",
    "Due to single line-to-ground fault at bus `b7`"
   ]
  },
  {
   "cell_type": "code",
   "execution_count": null,
   "metadata": {},
   "outputs": [],
   "source": [
    "import ShortCircuit as SC\n",
    "\n",
    "sys = SC.main()            # Get system\n",
    "sys012 = SC.sys_012(sys)   # Breck sys down"
   ]
  },
  {
   "attachments": {},
   "cell_type": "markdown",
   "metadata": {},
   "source": [
    "Get current through transformer `4`"
   ]
  },
  {
   "cell_type": "code",
   "execution_count": null,
   "metadata": {},
   "outputs": [],
   "source": [
    "b7 = sys012.single(7, Zf=10)\n",
    "b7 = sys012.I_ckt(b7)\n",
    "sys012.Ickt_fault[b7][1][:, 3, 6]      # Phase domain from bus 4 to 5\n"
   ]
  },
  {
   "cell_type": "code",
   "execution_count": null,
   "metadata": {},
   "outputs": [],
   "source": [
    "b7 = sys012.double_to_ground(7, Zf=10)\n",
    "b7 = sys012.I_ckt(b7)\n",
    "sys012.Ickt_fault[b7][1][:, 3, 6]      # Phase domain from bus 4 to 5"
   ]
  },
  {
   "attachments": {},
   "cell_type": "markdown",
   "metadata": {},
   "source": [
    "## By filling up"
   ]
  },
  {
   "cell_type": "code",
   "execution_count": null,
   "metadata": {},
   "outputs": [],
   "source": [
    "import ShortCircuit as SC\n",
    "\n",
    "sys = SC.main()            # Get system\n",
    "sys012 = SC.sys_012(sys)   # Breck sys down\n"
   ]
  },
  {
   "cell_type": "code",
   "execution_count": null,
   "metadata": {},
   "outputs": [],
   "source": [
    "Z = sys012.Z_012\n",
    "print(Z[0][6, 6])\n",
    "print(Z[1][6, 6])\n",
    "print(Z[2][6, 6])"
   ]
  },
  {
   "cell_type": "code",
   "execution_count": null,
   "metadata": {},
   "outputs": [],
   "source": [
    "b7 = sys012.single(7, Vf=1, Zf=0)\n",
    "b7 = sys012.I_ckt(b7)\n",
    "sys012.fault[b7][1]"
   ]
  },
  {
   "cell_type": "code",
   "execution_count": null,
   "metadata": {},
   "outputs": [],
   "source": [
    "sys012.fault[b7][0]"
   ]
  },
  {
   "cell_type": "code",
   "execution_count": null,
   "metadata": {},
   "outputs": [],
   "source": [
    "b7 = sys012.single(7, Zf=10)\n",
    "b7 = sys012.I_ckt(b7)\n",
    "sys012.Ickt_fault[b7][1][:, 3, 6]      # Phase domain from bus 4 to 5\n"
   ]
  },
  {
   "cell_type": "code",
   "execution_count": null,
   "metadata": {},
   "outputs": [],
   "source": [
    "sys012.fault[b7][3][6]"
   ]
  },
  {
   "cell_type": "code",
   "execution_count": null,
   "metadata": {},
   "outputs": [],
   "source": [
    "b7 = sys012.double_to_ground(7, Zf=10)\n",
    "b7 = sys012.I_ckt(b7)\n",
    "sys012.Ickt_fault[b7][1][:, 3, 6]      # Phase domain from bus 4 to 5"
   ]
  }
 ],
 "metadata": {
  "kernelspec": {
   "display_name": "powersys",
   "language": "python",
   "name": "python3"
  },
  "language_info": {
   "codemirror_mode": {
    "name": "ipython",
    "version": 3
   },
   "file_extension": ".py",
   "mimetype": "text/x-python",
   "name": "python",
   "nbconvert_exporter": "python",
   "pygments_lexer": "ipython3",
   "version": "3.10.4"
  },
  "orig_nbformat": 4
 },
 "nbformat": 4,
 "nbformat_minor": 2
}
