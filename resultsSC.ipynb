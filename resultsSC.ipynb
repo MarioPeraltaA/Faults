{
 "cells": [
  {
   "attachments": {},
   "cell_type": "markdown",
   "metadata": {},
   "source": [
    "## Example of implementation\n",
    "\n",
    "Show all data of the system:"
   ]
  },
  {
   "cell_type": "code",
   "execution_count": 1,
   "metadata": {},
   "outputs": [
    {
     "name": "stdout",
     "output_type": "stream",
     "text": [
      "\n",
      " ** Generator **\n",
      "{'Name': 'G1', 'Bus': 1, 'Snom_MVA': 1000, 'Vnom_kV': 15.0, 'Xdpp_pu': 0.18, 'X2_pu': 0.18, 'X0_pu': 0.07, 'Conn': 'Yg', 'Xg_pu': 0.0}\n",
      "{'Name': 'G2', 'Bus': 2, 'Snom_MVA': 1000, 'Vnom_kV': 15.0, 'Xdpp_pu': 0.2, 'X2_pu': 0.2, 'X0_pu': 0.1, 'Conn': 'Y', 'Xg_pu': 1000000.0}\n",
      "{'Name': 'G3', 'Bus': 3, 'Snom_MVA': 500, 'Vnom_kV': 13.8, 'Xdpp_pu': 0.25392, 'X2_pu': 0.25392, 'X0_pu': 0.08464, 'Conn': 'Yn', 'Xg_pu': 0.08464}\n",
      "{'Name': 'G4', 'Bus': 4, 'Snom_MVA': 750, 'Vnom_kV': 13.8, 'Xdpp_pu': 0.33855999999999997, 'X2_pu': 0.45141333333333333, 'X0_pu': 0.11285333333333333, 'Conn': 'Y', 'Xg_pu': 1128533.3333333333}\n",
      "\n",
      " ** Transformer **\n",
      "{'Name': 'T1', 'Bus1': 1, 'Bus2': 5, 'Snom_MVA': 1000, 'V1nom_kV': 15, 'V2nom_kV': 765, 'Xcc_pu': 0.1, 'Conn1': 'D', 'Conn2': 'Yg'}\n",
      "{'Name': 'T2', 'Bus1': 2, 'Bus2': 6, 'Snom_MVA': 1000, 'V1nom_kV': 15, 'V2nom_kV': 765, 'Xcc_pu': 0.1, 'Conn1': 'D', 'Conn2': 'Yg'}\n",
      "{'Name': 'T3', 'Bus1': 3, 'Bus2': 7, 'Snom_MVA': 500, 'V1nom_kV': 15, 'V2nom_kV': 765, 'Xcc_pu': 0.24, 'Conn1': 'Y', 'Conn2': 'Yg'}\n",
      "{'Name': 'T4', 'Bus1': 4, 'Bus2': 7, 'Snom_MVA': 750, 'V1nom_kV': 15, 'V2nom_kV': 765, 'Xcc_pu': 0.14666666666666667, 'Conn1': 'Yg', 'Conn2': 'Yg'}\n",
      "\n",
      " ** Conductor **\n",
      "{'R0_pu': None, 'R1_pu': None, 'R2_pu': None, 'X0_pu': 0.2563116749967961, 'X1_pu': 0.08543722499893203, 'X2_pu': 0.08543722499893203, 'Name': 'L56', 'Bus1': 5, 'Bus2': 6, 'Vnom_kV': 765, 'X1_ohm': 50, 'X0_ohm': 150}\n",
      "{'R0_pu': None, 'R1_pu': None, 'R2_pu': None, 'X0_pu': 0.17087444999786405, 'X1_pu': 0.06834977999914563, 'X2_pu': 0.06834977999914563, 'Name': 'L57', 'Bus1': 5, 'Bus2': 7, 'Vnom_kV': 765, 'X1_ohm': 40, 'X0_ohm': 100}\n",
      "{'R0_pu': None, 'R1_pu': None, 'R2_pu': None, 'X0_pu': 0.17087444999786405, 'X1_pu': 0.06834977999914563, 'X2_pu': 0.06834977999914563, 'Name': 'L67', 'Bus1': 6, 'Bus2': 7, 'Vnom_kV': 765, 'X1_ohm': 40, 'X0_ohm': 100}\n"
     ]
    }
   ],
   "source": [
    "import ShortCircuit as SC\n",
    "\n",
    "sys = SC.main()       # Get system\n",
    "# Show all objects of the system:\n",
    "print('\\n ** Generator **')\n",
    "for g in sys.generators:\n",
    "    print(g.__dict__)\n",
    "\n",
    "print('\\n ** Transformer **')\n",
    "for t in sys.transformers:\n",
    "    print(t.__dict__)\n",
    "\n",
    "print('\\n ** Conductor **')\n",
    "for c in sys.conductors:\n",
    "    print(c.__dict__)\n"
   ]
  },
  {
   "attachments": {},
   "cell_type": "markdown",
   "metadata": {},
   "source": [
    "Admitance matrix of positive sequency:"
   ]
  },
  {
   "cell_type": "code",
   "execution_count": 2,
   "metadata": {},
   "outputs": [
    {
     "name": "stdout",
     "output_type": "stream",
     "text": [
      "\n",
      " ** Positve Seq. ** \n",
      "\n",
      "[[0.-15.55555556j 0. +0.j         0. +0.j         0. +0.j\n",
      "  0.+10.j         0. +0.j         0. +0.j        ]\n",
      " [0. +0.j         0.-15.j         0. +0.j         0. +0.j\n",
      "  0. +0.j         0.+10.j         0. +0.j        ]\n",
      " [0. +0.j         0. +0.j         0. -8.10491493j 0. +0.j\n",
      "  0. +0.j         0. +0.j         0. +4.16666667j]\n",
      " [0. +0.j         0. +0.j         0. +0.j         0. -9.77186802j\n",
      "  0. +0.j         0. +0.j         0. +6.81818182j]\n",
      " [0.+10.j         0. +0.j         0. +0.j         0. +0.j\n",
      "  0.-36.335125j   0.+11.7045j     0.+14.630625j  ]\n",
      " [0. +0.j         0.+10.j         0. +0.j         0. +0.j\n",
      "  0.+11.7045j     0.-36.335125j   0.+14.630625j  ]\n",
      " [0. +0.j         0. +0.j         0. +4.16666667j 0. +6.81818182j\n",
      "  0.+14.630625j   0.+14.630625j   0.-40.24609848j]]\n"
     ]
    }
   ],
   "source": [
    "print('\\n ** Positve Seq. ** \\n')\n",
    "sys = SC.main01(sys)\n",
    "print(sys.Y)\n"
   ]
  },
  {
   "attachments": {},
   "cell_type": "markdown",
   "metadata": {},
   "source": [
    "Admitance matrix of negative sequency:"
   ]
  },
  {
   "cell_type": "code",
   "execution_count": 3,
   "metadata": {},
   "outputs": [
    {
     "name": "stdout",
     "output_type": "stream",
     "text": [
      "\n",
      " ** Negative Seq. ** \n",
      "\n",
      "[[0.-15.55555556j 0. +0.j         0. +0.j         0. +0.j\n",
      "  0.+10.j         0. +0.j         0. +0.j        ]\n",
      " [0. +0.j         0.-15.j         0. +0.j         0. +0.j\n",
      "  0. +0.j         0.+10.j         0. +0.j        ]\n",
      " [0. +0.j         0. +0.j         0. -8.10491493j 0. +0.j\n",
      "  0. +0.j         0. +0.j         0. +4.16666667j]\n",
      " [0. +0.j         0. +0.j         0. +0.j         0. -9.03344647j\n",
      "  0. +0.j         0. +0.j         0. +6.81818182j]\n",
      " [0.+10.j         0. +0.j         0. +0.j         0. +0.j\n",
      "  0.-36.335125j   0.+11.7045j     0.+14.630625j  ]\n",
      " [0. +0.j         0.+10.j         0. +0.j         0. +0.j\n",
      "  0.+11.7045j     0.-36.335125j   0.+14.630625j  ]\n",
      " [0. +0.j         0. +0.j         0. +4.16666667j 0. +6.81818182j\n",
      "  0.+14.630625j   0.+14.630625j   0.-40.24609848j]]\n"
     ]
    }
   ],
   "source": [
    "print('\\n ** Negative Seq. ** \\n')\n",
    "sys = SC.main02(sys)\n",
    "print(sys.Y)\n"
   ]
  },
  {
   "attachments": {},
   "cell_type": "markdown",
   "metadata": {},
   "source": [
    "Zero sequency: 15 x 15 matrix"
   ]
  },
  {
   "cell_type": "code",
   "execution_count": 4,
   "metadata": {},
   "outputs": [
    {
     "name": "stdout",
     "output_type": "stream",
     "text": [
      "\n",
      " ** Zero Seq. ** \n",
      "\n",
      "[[0.-1.00001429e+06j 0.+0.00000000e+00j 0.+0.00000000e+00j\n",
      "  0.+0.00000000e+00j 0.+9.99980000e-12j 0.+0.00000000e+00j\n",
      "  0.+0.00000000e+00j]\n",
      " [0.+0.00000000e+00j 0.-1.00000020e+01j 0.+0.00000000e+00j\n",
      "  0.+0.00000000e+00j 0.+0.00000000e+00j 0.+9.99980000e-12j\n",
      "  0.+0.00000000e+00j]\n",
      " [0.+0.00000000e+00j 0.+0.00000000e+00j 0.-1.57529941e+01j\n",
      "  0.+0.00000000e+00j 0.+0.00000000e+00j 0.+0.00000000e+00j\n",
      "  0.+9.99999520e-07j]\n",
      " [0.+0.00000000e+00j 0.+0.00000000e+00j 0.+0.00000000e+00j\n",
      "  0.-1.56791493e+01j 0.+0.00000000e+00j 0.+0.00000000e+00j\n",
      "  0.+6.81808884e+00j]\n",
      " [0.+9.99980000e-12j 0.+0.00000000e+00j 0.+0.00000000e+00j\n",
      "  0.+0.00000000e+00j 0.-1.97535510e+01j 0.+3.90150000e+00j\n",
      "  0.+5.85225000e+00j]\n",
      " [0.+0.00000000e+00j 0.+9.99980000e-12j 0.+0.00000000e+00j\n",
      "  0.+0.00000000e+00j 0.+3.90150000e+00j 0.-1.97535510e+01j\n",
      "  0.+5.85225000e+00j]\n",
      " [0.+0.00000000e+00j 0.+0.00000000e+00j 0.+9.99999520e-07j\n",
      "  0.+6.81808884e+00j 0.+5.85225000e+00j 0.+5.85225000e+00j\n",
      "  0.-1.85225928e+01j]]\n"
     ]
    }
   ],
   "source": [
    "sys = SC.main00(sys)\n",
    "print('\\n ** Zero Seq. ** \\n')\n",
    "print(sys.Y)"
   ]
  }
 ],
 "metadata": {
  "kernelspec": {
   "display_name": "powersys",
   "language": "python",
   "name": "python3"
  },
  "language_info": {
   "codemirror_mode": {
    "name": "ipython",
    "version": 3
   },
   "file_extension": ".py",
   "mimetype": "text/x-python",
   "name": "python",
   "nbconvert_exporter": "python",
   "pygments_lexer": "ipython3",
   "version": "3.10.4"
  },
  "orig_nbformat": 4
 },
 "nbformat": 4,
 "nbformat_minor": 2
}
