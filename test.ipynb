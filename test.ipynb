{
 "cells": [
  {
   "attachments": {},
   "cell_type": "markdown",
   "metadata": {},
   "source": [
    "## Example of implementation:\n",
    "\n",
    "Zero sequence network of transfomer with two winding: Wye floating in primary and Wye grounded trough a impedance of 0.3pu:"
   ]
  },
  {
   "cell_type": "code",
   "execution_count": 1,
   "metadata": {},
   "outputs": [
    {
     "name": "stdout",
     "output_type": "stream",
     "text": [
      "Nodes:  ['0', '1', '2', '3', '4', '5']\n",
      "Edges:  [{'2', '5'}, {'5', '3'}, ['3==', '==4']]\n"
     ]
    }
   ],
   "source": [
    "import transformer012 as Tx012\n",
    "\n",
    "wind1 = Tx012.Wye(1, GRN=False)\n",
    "wind2 = Tx012.Wye(2, Yg=1/0.3)\n",
    "# Creat transformer\n",
    "Tx = Tx012.Transformer(wind1, wind2)\n",
    "# Get zero sequence\n",
    "Tx.seq0()\n",
    "# Show connection and nodes remaining\n",
    "print('Nodes: ', Tx.nodes)\n",
    "print('Edges: ', Tx.edges)"
   ]
  },
  {
   "attachments": {},
   "cell_type": "markdown",
   "metadata": {},
   "source": [
    "*Note:* Where the list `[3==, ==4]` means there is a impedance between nodes `3` and `4`.\n",
    "\n",
    "\n",
    "Getting zero sequence network of a three winding transformer with *Wye* **grounded** through a impedance Zg = 0.3pu in primary, *Wye* **floating** secondary and *Delta* for tertiary winding."
   ]
  },
  {
   "cell_type": "code",
   "execution_count": 2,
   "metadata": {},
   "outputs": [
    {
     "name": "stdout",
     "output_type": "stream",
     "text": [
      "[{'2', '5'}, {'5', '3'}, {'5', '6'}, ['1==', '==2'], {'6', '0'}]\n"
     ]
    }
   ],
   "source": [
    "import transformer012 as Tx012\n",
    "\n",
    "wind1 = Tx012.Wye(1, Yg=1/0.3)    # Through impedance\n",
    "wind2 = Tx012.Wye(2, GRN=False)   # Floating\n",
    "wind3 = Tx012.Delta(3)            # Delta\n",
    "\n",
    "# Creat transformer\n",
    "Tx = Tx012.Transformer(wind1, wind2, wind3)\n",
    "# Get zero sequence net\n",
    "Tx.seq0()\n",
    "# Show connection:\n",
    "print(Tx.edges)"
   ]
  }
 ],
 "metadata": {
  "kernelspec": {
   "display_name": "powersys",
   "language": "python",
   "name": "python3"
  },
  "language_info": {
   "codemirror_mode": {
    "name": "ipython",
    "version": 3
   },
   "file_extension": ".py",
   "mimetype": "text/x-python",
   "name": "python",
   "nbconvert_exporter": "python",
   "pygments_lexer": "ipython3",
   "version": "3.10.4"
  },
  "orig_nbformat": 4
 },
 "nbformat": 4,
 "nbformat_minor": 2
}
